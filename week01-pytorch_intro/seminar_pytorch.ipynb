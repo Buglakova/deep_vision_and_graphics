{
 "cells": [
  {
   "cell_type": "markdown",
   "metadata": {},
   "source": [
    "# Hello, pytorch\n",
    "\n",
    "![img](https://pytorch.org/tutorials/_static/pytorch-logo-dark.svg)\n",
    "\n",
    "__This notebook__ will teach you to use pytorch low-level core. You can install it [here](http://pytorch.org/). For high-level interface see the next notebook.\n",
    "\n",
    "__Pytorch feels__ differently than tensorflow/theano on almost every level. TensorFlow makes your code live in two \"worlds\" simultaneously:  symbolic graphs and actual tensors. First you declare a symbolic \"recipe\" of how to get from inputs to outputs, then feed it with actual minibatches of data.  In pytorch, __there's only one world__: all tensors have a numeric value.\n",
    "\n",
    "You compute outputs on the fly without pre-declaring anything. The code looks exactly as in pure numpy with one exception: pytorch computes gradients for you. And can run stuff on GPU. And has a number of pre-implemented building blocks for your neural nets. [And a few more things.](https://medium.com/towards-data-science/pytorch-vs-tensorflow-spotting-the-difference-25c75777377b)\n",
    "\n",
    "And now we finally shut up and let pytorch do the talking."
   ]
  },
  {
   "cell_type": "code",
   "execution_count": 1,
   "metadata": {},
   "outputs": [
    {
     "name": "stderr",
     "output_type": "stream",
     "text": [
      "/home/buglakov/miniconda3/envs/torchem/lib/python3.10/site-packages/tqdm/auto.py:22: TqdmWarning: IProgress not found. Please update jupyter and ipywidgets. See https://ipywidgets.readthedocs.io/en/stable/user_install.html\n",
      "  from .autonotebook import tqdm as notebook_tqdm\n"
     ]
    },
    {
     "name": "stdout",
     "output_type": "stream",
     "text": [
      "1.13.1\n"
     ]
    }
   ],
   "source": [
    "# if running in colab, execute this:\n",
    "# !wget https://raw.githubusercontent.com/yandexdataschool/Practical_DL/fall19/week02_autodiff/notmnist.py -O notmnist.py\n",
    "# !pip3 install torch==1.0.0 torchvision\n",
    "\n",
    "from __future__ import print_function\n",
    "import numpy as np\n",
    "import torch\n",
    "print(torch.__version__)  # it's okay if your version is different, as long as it's 1.0 or newer"
   ]
  },
  {
   "cell_type": "code",
   "execution_count": 2,
   "metadata": {
    "scrolled": true
   },
   "outputs": [
    {
     "name": "stdout",
     "output_type": "stream",
     "text": [
      "X :\n",
      "[[ 0  1  2  3]\n",
      " [ 4  5  6  7]\n",
      " [ 8  9 10 11]\n",
      " [12 13 14 15]]\n",
      "\n",
      "X.shape : (4, 4)\n",
      "\n",
      "add 5 :\n",
      "[[ 5  6  7  8]\n",
      " [ 9 10 11 12]\n",
      " [13 14 15 16]\n",
      " [17 18 19 20]]\n",
      "\n",
      "X*X^T  :\n",
      "[[ 14  38  62  86]\n",
      " [ 38 126 214 302]\n",
      " [ 62 214 366 518]\n",
      " [ 86 302 518 734]]\n",
      "\n",
      "mean over cols :\n",
      "[ 1.5  5.5  9.5 13.5]\n",
      "\n",
      "cumsum of cols :\n",
      "[[ 0  1  2  3]\n",
      " [ 4  6  8 10]\n",
      " [12 15 18 21]\n",
      " [24 28 32 36]]\n",
      "\n"
     ]
    }
   ],
   "source": [
    "# numpy world\n",
    "\n",
    "x = np.arange(16).reshape(4, 4)\n",
    "\n",
    "print(\"X :\\n%s\\n\" % x)\n",
    "print(\"X.shape : %s\\n\" % (x.shape,))\n",
    "print(\"add 5 :\\n%s\\n\" % (x + 5))\n",
    "print(\"X*X^T  :\\n%s\\n\" % np.dot(x, x.T))\n",
    "print(\"mean over cols :\\n%s\\n\" % (x.mean(axis=-1)))\n",
    "print(\"cumsum of cols :\\n%s\\n\" % (np.cumsum(x, axis=0)))"
   ]
  },
  {
   "cell_type": "code",
   "execution_count": 3,
   "metadata": {},
   "outputs": [
    {
     "name": "stdout",
     "output_type": "stream",
     "text": [
      "X :\n",
      "tensor([[ 0.,  1.,  2.,  3.],\n",
      "        [ 4.,  5.,  6.,  7.],\n",
      "        [ 8.,  9., 10., 11.],\n",
      "        [12., 13., 14., 15.]])\n",
      "X.shape : torch.Size([4, 4])\n",
      "\n",
      "add 5 :\n",
      "tensor([[ 5.,  6.,  7.,  8.],\n",
      "        [ 9., 10., 11., 12.],\n",
      "        [13., 14., 15., 16.],\n",
      "        [17., 18., 19., 20.]])\n",
      "X*X^T  :\n",
      "tensor([[ 14.,  38.,  62.,  86.],\n",
      "        [ 38., 126., 214., 302.],\n",
      "        [ 62., 214., 366., 518.],\n",
      "        [ 86., 302., 518., 734.]])\n",
      "mean over cols :\n",
      "tensor([ 1.5000,  5.5000,  9.5000, 13.5000])\n",
      "cumsum of cols :\n",
      "tensor([[ 0.,  1.,  2.,  3.],\n",
      "        [ 4.,  6.,  8., 10.],\n",
      "        [12., 15., 18., 21.],\n",
      "        [24., 28., 32., 36.]])\n"
     ]
    }
   ],
   "source": [
    "# pytorch world\n",
    "\n",
    "x = np.arange(16).reshape(4, 4)\n",
    "\n",
    "x = torch.tensor(x, dtype=torch.float32)  # or torch.arange(0,16).view(4,4)\n",
    "\n",
    "print(\"X :\\n%s\" % x)\n",
    "print(\"X.shape : %s\\n\" % (x.shape,))\n",
    "print(\"add 5 :\\n%s\" % (x + 5))\n",
    "print(\"X*X^T  :\\n%s\" % torch.matmul(x, x.transpose(1, 0)))  # short: x.mm(x.t())\n",
    "print(\"mean over cols :\\n%s\" % torch.mean(x, dim=-1))\n",
    "print(\"cumsum of cols :\\n%s\" % torch.cumsum(x, dim=0))"
   ]
  },
  {
   "cell_type": "markdown",
   "metadata": {},
   "source": [
    "## NumPy and Pytorch\n",
    "\n",
    "As you can notice, pytorch allows you to hack stuff much the same way you did with numpy. No graph declaration, no placeholders, no sessions. This means that you can _see the numeric value of any tensor at any moment of time_. Debugging such code can be done with by printing tensors or using any debug tool you want (e.g. [gdb](https://wiki.python.org/moin/DebuggingWithGdb)).\n",
    "\n",
    "You could also notice the a few new method names and a different API. So no, there's no compatibility with numpy [yet](https://github.com/pytorch/pytorch/issues/2228) and yes, you'll have to memorize all the names again. Get excited!\n",
    "\n",
    "![img](http://i0.kym-cdn.com/entries/icons/original/000/017/886/download.jpg)\n",
    "\n",
    "For example, \n",
    "* If something takes a list/tuple of axes in numpy, you can expect it to take *args in pytorch\n",
    " * `x.reshape([1,2,8]) -> x.view(1,2,8)`\n",
    "* You should swap _axis_ for _dim_ in operations like mean or cumsum\n",
    " * `x.sum(axis=-1) -> x.sum(dim=-1)`\n",
    "* most mathematical operations are the same, but types an shaping is different\n",
    " * `x.astype('int64') -> x.type(torch.LongTensor)`\n",
    "\n",
    "To help you acclimatize, there's a [table](https://github.com/torch/torch7/wiki/Torch-for-Numpy-users) covering most new things. There's also a neat [documentation page](http://pytorch.org/docs/master/).\n",
    "\n",
    "Finally, if you're stuck with a technical problem, we recommend searching [pytorch forumns](https://discuss.pytorch.org/). Or just googling, which usually works just as efficiently. \n",
    "\n",
    "If you feel like you almost give up, remember two things: __GPU__ an __free gradients__. Besides you can always jump back to numpy with x.numpy()"
   ]
  },
  {
   "cell_type": "markdown",
   "metadata": {},
   "source": [
    "### Warmup: trigonometric knotwork\n",
    "_inspired by [this post](https://www.quora.com/What-are-the-most-interesting-equation-plots)_\n",
    "\n",
    "There are some simple mathematical functions with cool plots. For one, consider this:\n",
    "\n",
    "$$ x(t) = t - 1.5 * cos( 15 t) $$\n",
    "$$ y(t) = t - 1.5 * sin( 16 t) $$\n"
   ]
  },
  {
   "cell_type": "code",
   "execution_count": 9,
   "metadata": {
    "collapsed": true
   },
   "outputs": [
    {
     "data": {
      "text/plain": [
       "[<matplotlib.lines.Line2D at 0x7fff25b0f6a0>]"
      ]
     },
     "execution_count": 9,
     "metadata": {},
     "output_type": "execute_result"
    },
    {
     "data": {
      "image/png": "[encoded data removed]",
      "text/plain": [
       "<Figure size 640x480 with 1 Axes>"
      ]
     },
     "metadata": {},
     "output_type": "display_data"
    }
   ],
   "source": [
    "import matplotlib.pyplot as plt\n",
    "%matplotlib inline\n",
    "\n",
    "t = torch.linspace(-10, 10, steps=10000)\n",
    "\n",
    "# compute x(t) and y(t) as defined above\n",
    "x =  t - 1.5 * torch.cos(15 * t)\n",
    "y =  t - 1.5 * torch.sin(16 * t)\n",
    "\n",
    "plt.plot(x.numpy(), y.numpy())"
   ]
  },
  {
   "cell_type": "markdown",
   "metadata": {},
   "source": [
    "if you're done early, try adjusting the formula and seing how  it affects the function"
   ]
  },
  {
   "cell_type": "markdown",
   "metadata": {},
   "source": [
    "```\n",
    "\n",
    "```\n",
    "\n",
    "```\n",
    "\n",
    "```\n",
    "\n",
    "```\n",
    "\n",
    "```\n",
    "\n",
    "```\n",
    "\n",
    "```\n",
    "\n",
    "```\n",
    "\n",
    "```\n",
    "\n",
    "```\n",
    "\n",
    "```\n",
    "\n",
    "```\n",
    "\n",
    "```\n",
    "\n",
    "```\n",
    "\n",
    "```\n",
    "\n",
    "```\n",
    "\n",
    "```\n"
   ]
  },
  {
   "cell_type": "markdown",
   "metadata": {},
   "source": [
    "## Automatic gradients\n",
    "\n",
    "Any self-respecting DL framework must do your backprop for you. Torch handles this with the `autograd` module.\n",
    "\n",
    "The general pipeline looks like this:\n",
    "* When creating a tensor, you mark it as `requires_grad`:\n",
    "    * __```torch.zeros(5, requires_grad=True)```__\n",
    "    * torch.tensor(np.arange(5), dtype=torch.float32, requires_grad=True)\n",
    "* Define some differentiable `loss = arbitrary_function(a)`\n",
    "* Call `loss.backward()`\n",
    "* Gradients are now available as ```a.grads```\n",
    "\n",
    "__Here's an example:__ let's fit a linear regression on Boston house prices"
   ]
  },
  {
   "cell_type": "code",
   "execution_count": 38,
   "metadata": {
    "scrolled": true
   },
   "outputs": [
    {
     "data": {
      "text/plain": [
       "<matplotlib.collections.PathCollection at 0x7fff1b3cdf00>"
      ]
     },
     "execution_count": 38,
     "metadata": {},
     "output_type": "execute_result"
    },
    {
     "data": {
      "image/png": "[encoded data removed]",
      "text/plain": [
       "<Figure size 640x480 with 1 Axes>"
      ]
     },
     "metadata": {},
     "output_type": "display_data"
    }
   ],
   "source": [
    "# from sklearn.datasets import load_boston\n",
    "import pandas as pd\n",
    "\n",
    "data_url = \"http://lib.stat.cmu.edu/datasets/boston\"\n",
    "raw_df = pd.read_csv(data_url, sep=\"\\\\s+\", skiprows=22, header=None)\n",
    "data = np.hstack([raw_df.values[::2, :], raw_df.values[1::2, :2]])\n",
    "target = raw_df.values[1::2, 2]\n",
    "plt.scatter(data[:, -1], target)"
   ]
  },
  {
   "cell_type": "code",
   "execution_count": 39,
   "metadata": {},
   "outputs": [],
   "source": [
    "w = torch.zeros(1, requires_grad=True)\n",
    "b = torch.zeros(1, requires_grad=True)\n",
    "\n",
    "x = torch.tensor(data[:, -1] / 10, dtype=torch.float32)\n",
    "y = torch.tensor(target, dtype=torch.float32)"
   ]
  },
  {
   "cell_type": "code",
   "execution_count": 41,
   "metadata": {},
   "outputs": [],
   "source": [
    "y_pred = w * x + b\n",
    "loss = torch.mean((y_pred - y)**2)\n",
    "\n",
    "# propagete gradients\n",
    "loss.backward()"
   ]
  },
  {
   "cell_type": "markdown",
   "metadata": {},
   "source": [
    "The gradients are now stored in `.grad` of those tensors that require them."
   ]
  },
  {
   "cell_type": "code",
   "execution_count": 42,
   "metadata": {},
   "outputs": [
    {
     "name": "stdout",
     "output_type": "stream",
     "text": [
      "dL/dw = \n",
      " tensor([-94.7029])\n",
      "dL/db = \n",
      " tensor([-90.1312])\n"
     ]
    }
   ],
   "source": [
    "print(\"dL/dw = \\n\", w.grad)\n",
    "print(\"dL/db = \\n\", b.grad)"
   ]
  },
  {
   "cell_type": "markdown",
   "metadata": {},
   "source": [
    "If you compute gradient from multiple losses, the gradients will add up at tensors, therefore it's useful to __zero the gradients__ between iteratons."
   ]
  },
  {
   "cell_type": "code",
   "execution_count": 43,
   "metadata": {},
   "outputs": [
    {
     "data": {
      "image/png": "[encoded data removed]",
      "text/plain": [
       "<Figure size 640x480 with 1 Axes>"
      ]
     },
     "metadata": {},
     "output_type": "display_data"
    },
    {
     "name": "stdout",
     "output_type": "stream",
     "text": [
      "loss =  44.376724\n"
     ]
    }
   ],
   "source": [
    "from IPython.display import clear_output\n",
    "\n",
    "for i in range(100):\n",
    "\n",
    "    y_pred = w * x + b\n",
    "    loss = torch.mean((y_pred - y)**2)\n",
    "    loss.backward()\n",
    "    \n",
    "    with torch.no_grad():\n",
    "        w.data = w - 0.05 * w.grad.data\n",
    "        b.data = b - 0.05 * b.grad.data\n",
    "\n",
    "        # zero gradients\n",
    "        w.grad.zero_()\n",
    "        b.grad.zero_()\n",
    "\n",
    "    # the rest of code is just bells and whistles\n",
    "    if (i + 1) % 5 == 0:\n",
    "        clear_output(True)\n",
    "        plt.scatter(x.data.numpy(), y.data.numpy())\n",
    "        plt.scatter(x.data.numpy(), y_pred.data.numpy(),\n",
    "                    color='orange', linewidth=5)\n",
    "        plt.show()\n",
    "\n",
    "        print(\"loss = \", loss.data.numpy())\n",
    "        if loss.item() < 0.5:\n",
    "            print(\"Done!\")\n",
    "            break"
   ]
  },
  {
   "cell_type": "markdown",
   "metadata": {},
   "source": [
    "__Bonus quest__: try implementing and writing some nonlinear regression. You can try quadratic features or some trigonometry, or a simple neural network. The only difference is that now you have more weights and a more complicated `y_pred`. "
   ]
  },
  {
   "cell_type": "markdown",
   "metadata": {},
   "source": [
    "# High-level pytorch\n",
    "\n",
    "So far we've been dealing with low-level torch API. While it's absolutely vital for any custom losses or layers, building large neura nets in it is a bit clumsy.\n",
    "\n",
    "Luckily, there's also a high-level torch interface with a pre-defined layers, activations and training algorithms. \n",
    "\n",
    "We'll cover them as we go through a simple image recognition problem: classifying letters into __\"A\"__ vs __\"B\"__.\n"
   ]
  },
  {
   "cell_type": "code",
   "execution_count": 46,
   "metadata": {},
   "outputs": [
    {
     "name": "stdout",
     "output_type": "stream",
     "text": [
      "Downloading data...\n"
     ]
    },
    {
     "name": "stderr",
     "output_type": "stream",
     "text": [
      "--2023-01-10 10:53:36--  http://yaroslavvb.com/upload/notMNIST/notMNIST_small.tar.gz\n",
      "Resolving yaroslavvb.com (yaroslavvb.com)... 129.121.4.193\n",
      "Connecting to yaroslavvb.com (yaroslavvb.com)|129.121.4.193|:80... connected.\n",
      "HTTP request sent, awaiting response... 200 OK\n",
      "Length: 8458043 (8,1M) [application/x-gzip]\n",
      "Saving to: ‘notMNIST_small.tar.gz’\n",
      "\n",
      "     0K .......... .......... .......... .......... ..........  0%  183K 45s\n",
      "    50K .......... .......... .......... .......... ..........  1%  327K 35s\n",
      "   100K .......... .......... .......... .......... ..........  1% 45,0M 23s\n",
      "   150K .......... .......... .......... .......... ..........  2%  331K 23s\n",
      "   200K .......... .......... .......... .......... ..........  3% 44,4M 19s\n",
      "   250K .......... .......... .......... .......... ..........  3% 90,9M 15s\n",
      "   300K .......... .......... .......... .......... ..........  4%  101M 13s\n",
      "   350K .......... .......... .......... .......... ..........  4%  332K 14s\n",
      "   400K .......... .......... .......... .......... ..........  5% 49,1M 13s\n",
      "   450K .......... .......... .......... .......... ..........  6% 50,2M 11s\n",
      "   500K .......... .......... .......... .......... ..........  6% 56,3M 10s\n",
      "   550K .......... .......... .......... .......... ..........  7% 53,9M 9s\n",
      "   600K .......... .......... .......... .......... ..........  7%  128M 9s\n",
      "   650K .......... .......... .......... .......... ..........  8% 37,1M 8s\n",
      "   700K .......... .......... .......... .......... ..........  9% 47,6M 7s\n",
      "   750K .......... .......... .......... .......... ..........  9%  208M 7s\n",
      "   800K .......... .......... .......... .......... .......... 10%  339K 8s\n",
      "   850K .......... .......... .......... .......... .......... 10%  135M 7s\n",
      "   900K .......... .......... .......... .......... .......... 11%  129M 7s\n",
      "   950K .......... .......... .......... .......... .......... 12%  142M 6s\n",
      "  1000K .......... .......... .......... .......... .......... 12%  146M 6s\n",
      "  1050K .......... .......... .......... .......... .......... 13%  124M 6s\n",
      "  1100K .......... .......... .......... .......... .......... 13%  154M 5s\n",
      "  1150K .......... .......... .......... .......... .......... 14%  108M 5s\n",
      "  1200K .......... .......... .......... .......... .......... 15%  135M 5s\n",
      "  1250K .......... .......... .......... .......... .......... 15%  147M 5s\n",
      "  1300K .......... .......... .......... .......... .......... 16%  149M 5s\n",
      "  1350K .......... .......... .......... .......... .......... 16%  120M 4s\n",
      "  1400K .......... .......... .......... .......... .......... 17%  196M 4s\n",
      "  1450K .......... .......... .......... .......... .......... 18% 45,6M 4s\n",
      "  1500K .......... .......... .......... .......... .......... 18% 25,7M 4s\n",
      "  1550K .......... .......... .......... .......... .......... 19%  232M 4s\n",
      "  1600K .......... .......... .......... .......... .......... 19%  339K 4s\n",
      "  1650K .......... .......... .......... .......... .......... 20%  134M 4s\n",
      "  1700K .......... .......... .......... .......... .......... 21%  131M 4s\n",
      "  1750K .......... .......... .......... .......... .......... 21% 33,3M 4s\n",
      "  1800K .......... .......... .......... .......... .......... 22% 55,1M 4s\n",
      "  1850K .......... .......... .......... .......... .......... 23%  133M 3s\n",
      "  1900K .......... .......... .......... .......... .......... 23%  136M 3s\n",
      "  1950K .......... .......... .......... .......... .......... 24%  133M 3s\n",
      "  2000K .......... .......... .......... .......... .......... 24%  235M 3s\n",
      "  2050K .......... .......... .......... .......... .......... 25%  256M 3s\n",
      "  2100K .......... .......... .......... .......... .......... 26%  238M 3s\n",
      "  2150K .......... .......... .......... .......... .......... 26%  202M 3s\n",
      "  2200K .......... .......... .......... .......... .......... 27%  243M 3s\n",
      "  2250K .......... .......... .......... .......... .......... 27%  241M 3s\n",
      "  2300K .......... .......... .......... .......... .......... 28%  258M 3s\n",
      "  2350K .......... .......... .......... .......... .......... 29%  214M 3s\n",
      "  2400K .......... .......... .......... .......... .......... 29%  232M 2s\n",
      "  2450K .......... .......... .......... .......... .......... 30%  255M 2s\n",
      "  2500K .......... .......... .......... .......... .......... 30%  248M 2s\n",
      "  2550K .......... .......... .......... .......... .......... 31%  177M 2s\n",
      "  2600K .......... .......... .......... .......... .......... 32%  237M 2s\n",
      "  2650K .......... .......... .......... .......... .......... 32%  122M 2s\n",
      "  2700K .......... .......... .......... .......... .......... 33% 86,6M 2s\n",
      "  2750K .......... .......... .......... .......... .......... 33%  237M 2s\n",
      "  2800K .......... .......... .......... .......... .......... 34%  145M 2s\n",
      "  2850K .......... .......... .......... .......... .......... 35%  109M 2s\n",
      "  2900K .......... .......... .......... .......... .......... 35% 70,7M 2s\n",
      "  2950K .......... .......... .......... .......... .......... 36%  169K 2s\n",
      "  3000K .......... .......... .......... .......... .......... 36% 97,2M 2s\n",
      "  3050K .......... .......... .......... .......... .......... 37%  124M 2s\n",
      "  3100K .......... .......... .......... .......... .......... 38%  127M 2s\n",
      "  3150K .......... .......... .......... .......... .......... 38%  129M 2s\n",
      "  3200K .......... .......... .......... .......... .......... 39%  108M 2s\n",
      "  3250K .......... .......... .......... .......... .......... 39%  127M 2s\n",
      "  3300K .......... .......... .......... .......... .......... 40%  124M 2s\n",
      "  3350K .......... .......... .......... .......... .......... 41%  128M 2s\n",
      "  3400K .......... .......... .......... .......... .......... 41% 46,0M 2s\n",
      "  3450K .......... .......... .......... .......... .......... 42%  234M 2s\n",
      "  3500K .......... .......... .......... .......... .......... 42%  232M 2s\n",
      "  3550K .......... .......... .......... .......... .......... 43%  222M 2s\n",
      "  3600K .......... .......... .......... .......... .......... 44%  208M 2s\n",
      "  3650K .......... .......... .......... .......... .......... 44%  229M 2s\n",
      "  3700K .......... .......... .......... .......... .......... 45%  231M 2s\n",
      "  3750K .......... .......... .......... .......... .......... 46%  220M 2s\n",
      "  3800K .......... .......... .......... .......... .......... 46%  202M 2s\n",
      "  3850K .......... .......... .......... .......... .......... 47%  249M 2s\n",
      "  3900K .......... .......... .......... .......... .......... 47%  218M 1s\n",
      "  3950K .......... .......... .......... .......... .......... 48%  231M 1s\n",
      "  4000K .......... .......... .......... .......... .......... 49%  202M 1s\n",
      "  4050K .......... .......... .......... .......... .......... 49%  238M 1s\n",
      "  4100K .......... .......... .......... .......... .......... 50%  230M 1s\n",
      "  4150K .......... .......... .......... .......... .......... 50%  240M 1s\n",
      "  4200K .......... .......... .......... .......... .......... 51%  194M 1s\n",
      "  4250K .......... .......... .......... .......... .......... 52%  241M 1s\n",
      "  4300K .......... .......... .......... .......... .......... 52%  239M 1s\n",
      "  4350K .......... .......... .......... .......... .......... 53%  237M 1s\n",
      "  4400K .......... .......... .......... .......... .......... 53%  191M 1s\n",
      "  4450K .......... .......... .......... .......... .......... 54%  221M 1s\n",
      "  4500K .......... .......... .......... .......... .......... 55%  233M 1s\n",
      "  4550K .......... .......... .......... .......... .......... 55%  241M 1s\n",
      "  4600K .......... .......... .......... .......... .......... 56%  207M 1s\n",
      "  4650K .......... .......... .......... .......... .......... 56%  252M 1s\n",
      "  4700K .......... .......... .......... .......... .......... 57%  221M 1s\n",
      "  4750K .......... .......... .......... .......... .......... 58%  219M 1s\n",
      "  4800K .......... .......... .......... .......... .......... 58%  207M 1s\n",
      "  4850K .......... .......... .......... .......... .......... 59%  240M 1s\n",
      "  4900K .......... .......... .......... .......... .......... 59%  246M 1s\n",
      "  4950K .......... .......... .......... .......... .......... 60%  232M 1s\n",
      "  5000K .......... .......... .......... .......... .......... 61%  211M 1s\n",
      "  5050K .......... .......... .......... .......... .......... 61%  230M 1s\n",
      "  5100K .......... .......... .......... .......... .......... 62%  240M 1s\n",
      "  5150K .......... .......... .......... .......... .......... 62%  218M 1s\n",
      "  5200K .......... .......... .......... .......... .......... 63%  206M 1s\n",
      "  5250K .......... .......... .......... .......... .......... 64% 1,15M 1s\n",
      "  5300K .......... .......... .......... .......... .......... 64% 42,2M 1s\n",
      "  5350K .......... .......... .......... .......... .......... 65% 29,2M 1s\n",
      "  5400K .......... .......... .......... .......... .......... 65%  226M 1s\n",
      "  5450K .......... .......... .......... .......... .......... 66%  220M 1s\n",
      "  5500K .......... .......... .......... .......... .......... 67%  241M 1s\n",
      "  5550K .......... .......... .......... .......... .......... 67%  213M 1s\n",
      "  5600K .......... .......... .......... .......... .......... 68%  235M 1s\n",
      "  5650K .......... .......... .......... .......... .......... 69%  231M 1s\n",
      "  5700K .......... .......... .......... .......... .......... 69%  227M 1s\n",
      "  5750K .......... .......... .......... .......... .......... 70%  206M 1s\n",
      "  5800K .......... .......... .......... .......... .......... 70%  242M 1s\n",
      "  5850K .......... .......... .......... .......... .......... 71%  243M 1s\n",
      "  5900K .......... .......... .......... .......... .......... 72%  235M 1s\n",
      "  5950K .......... .......... .......... .......... .......... 72%  189M 1s\n",
      "  6000K .......... .......... .......... .......... .......... 73%  538K 1s\n",
      "  6050K .......... .......... .......... .......... .......... 73%  118M 1s\n",
      "  6100K .......... .......... .......... .......... .......... 74%  127M 1s\n",
      "  6150K .......... .......... .......... .......... .......... 75% 55,4M 0s\n",
      "  6200K .......... .......... .......... .......... .......... 75%  188M 0s\n",
      "  6250K .......... .......... .......... .......... .......... 76%  188M 0s\n",
      "  6300K .......... .......... .......... .......... .......... 76%  200M 0s\n",
      "  6350K .......... .......... .......... .......... .......... 77%  159M 0s\n",
      "  6400K .......... .......... .......... .......... .......... 78%  200M 0s\n",
      "  6450K .......... .......... .......... .......... .......... 78% 6,52M 0s\n",
      "  6500K .......... .......... .......... .......... .......... 79% 66,2M 0s\n",
      "  6550K .......... .......... .......... .......... .......... 79% 62,4M 0s\n",
      "  6600K .......... .......... .......... .......... .......... 80% 56,1M 0s\n",
      "  6650K .......... .......... .......... .......... .......... 81%  252K 0s\n",
      "  6700K .......... .......... .......... .......... .......... 81% 44,3M 0s\n",
      "  6750K .......... .......... .......... .......... .......... 82%  102M 0s\n",
      "  6800K .......... .......... .......... .......... .......... 82%  122M 0s\n",
      "  6850K .......... .......... .......... .......... .......... 83%  130M 0s\n",
      "  6900K .......... .......... .......... .......... .......... 84%  125M 0s\n",
      "  6950K .......... .......... .......... .......... .......... 84%  110M 0s\n",
      "  7000K .......... .......... .......... .......... .......... 85%  125M 0s\n",
      "  7050K .......... .......... .......... .......... .......... 85%  124M 0s\n",
      "  7100K .......... .......... .......... .......... .......... 86%  130M 0s\n",
      "  7150K .......... .......... .......... .......... .......... 87%  109M 0s\n",
      "  7200K .......... .......... .......... .......... .......... 87% 50,0M 0s\n",
      "  7250K .......... .......... .......... .......... .......... 88%  235M 0s\n",
      "  7300K .......... .......... .......... .......... .......... 88%  235M 0s\n",
      "  7350K .......... .......... .......... .......... .......... 89%  203M 0s\n",
      "  7400K .......... .......... .......... .......... .......... 90%  240M 0s\n",
      "  7450K .......... .......... .......... .......... .......... 90%  230M 0s\n",
      "  7500K .......... .......... .......... .......... .......... 91%  245M 0s\n",
      "  7550K .......... .......... .......... .......... .......... 92%  210M 0s\n",
      "  7600K .......... .......... .......... .......... .......... 92%  231M 0s\n",
      "  7650K .......... .......... .......... .......... .......... 93%  243M 0s\n",
      "  7700K .......... .......... .......... .......... .......... 93%  246M 0s\n",
      "  7750K .......... .......... .......... .......... .......... 94%  220M 0s\n",
      "  7800K .......... .......... .......... .......... .......... 95%  233M 0s\n",
      "  7850K .......... .......... .......... .......... .......... 95%  240M 0s\n",
      "  7900K .......... .......... .......... .......... .......... 96%  246M 0s\n",
      "  7950K .......... .......... .......... .......... .......... 96%  213M 0s\n",
      "  8000K .......... .......... .......... .......... .......... 97%  242M 0s\n",
      "  8050K .......... .......... .......... .......... .......... 98%  249M 0s\n",
      "  8100K .......... .......... .......... .......... .......... 98%  222M 0s\n",
      "  8150K .......... .......... .......... .......... .......... 99%  206M 0s\n",
      "  8200K .......... .......... .......... .......... .......... 99%  227M 0s\n",
      "  8250K .........                                             100%  224M=1,7s\n",
      "\n",
      "2023-01-10 10:53:38 (4,69 MB/s) - ‘notMNIST_small.tar.gz’ saved [8458043/8458043]\n",
      "\n"
     ]
    },
    {
     "name": "stdout",
     "output_type": "stream",
     "text": [
      "Extracting ...\n",
      "Parsing...\n",
      "found broken img: ./notMNIST_small/A/RGVtb2NyYXRpY2FCb2xkT2xkc3R5bGUgQm9sZC50dGY=.png [it's ok if <10 images are broken]\n",
      "Done\n",
      "Train size = 2808, test_size = 937\n"
     ]
    }
   ],
   "source": [
    "from notmnist import load_notmnist\n",
    "X_train, y_train, X_test, y_test = load_notmnist(letters='AB')\n",
    "X_train, X_test = X_train.reshape([-1, 784]), X_test.reshape([-1, 784])\n",
    "\n",
    "print(\"Train size = %i, test_size = %i\" % (len(X_train), len(X_test)))"
   ]
  },
  {
   "cell_type": "code",
   "execution_count": 48,
   "metadata": {
    "scrolled": true
   },
   "outputs": [
    {
     "data": {
      "image/png": "[encoded data removed]",
      "text/plain": [
       "<Figure size 640x480 with 2 Axes>"
      ]
     },
     "metadata": {},
     "output_type": "display_data"
    }
   ],
   "source": [
    "for i in [0, 1]:\n",
    "    plt.subplot(1, 2, i + 1)\n",
    "    plt.imshow(X_train[i].reshape([28, 28]))\n",
    "    plt.title(str(y_train[i]))"
   ]
  },
  {
   "cell_type": "markdown",
   "metadata": {},
   "source": [
    "Let's start with layers. The main abstraction here is __`torch.nn.Module`__"
   ]
  },
  {
   "cell_type": "code",
   "execution_count": 49,
   "metadata": {},
   "outputs": [
    {
     "name": "stdout",
     "output_type": "stream",
     "text": [
      "Base class for all neural network modules.\n",
      "\n",
      "    Your models should also subclass this class.\n",
      "\n",
      "    Modules can also contain other Modules, allowing to nest them in\n",
      "    a tree structure. You can assign the submodules as regular attributes::\n",
      "\n",
      "        import torch.nn as nn\n",
      "        import torch.nn.functional as F\n",
      "\n",
      "        class Model(nn.Module):\n",
      "            def __init__(self):\n",
      "                super().__init__()\n",
      "                self.conv1 = nn.Conv2d(1, 20, 5)\n",
      "                self.conv2 = nn.Conv2d(20, 20, 5)\n",
      "\n",
      "            def forward(self, x):\n",
      "                x = F.relu(self.conv1(x))\n",
      "                return F.relu(self.conv2(x))\n",
      "\n",
      "    Submodules assigned in this way will be registered, and will have their\n",
      "    parameters converted too when you call :meth:`to`, etc.\n",
      "\n",
      "    .. note::\n",
      "        As per the example above, an ``__init__()`` call to the parent class\n",
      "        must be made before assignment on the child.\n",
      "\n",
      "    :ivar training: Boolean represents whether this module is in training or\n",
      "                    evaluation mode.\n",
      "    :vartype training: bool\n",
      "    \n"
     ]
    }
   ],
   "source": [
    "from torch import nn\n",
    "import torch.nn.functional as F\n",
    "\n",
    "print(nn.Module.__doc__)"
   ]
  },
  {
   "cell_type": "markdown",
   "metadata": {},
   "source": [
    "There's a vast library of popular layers and architectures already built for ya'.\n",
    "\n",
    "This is a binary classification problem, so we'll train a __Logistic Regression with sigmoid__.\n",
    "$$P(y_i | X_i) = \\sigma(W \\cdot X_i + b) ={ 1 \\over {1+e^{- [W \\cdot X_i + b]}} }$$\n"
   ]
  },
  {
   "cell_type": "code",
   "execution_count": 51,
   "metadata": {
    "collapsed": true
   },
   "outputs": [],
   "source": [
    "# create a network that stacks layers on top of each other\n",
    "model = nn.Sequential(\n",
    "    nn.Linear(784, 1),   # add first \"dense\" layer with 784 input units and 1 output unit.\n",
    "    nn.Sigmoid()         # add softmax activation for probabilities. Normalize over axis 1\n",
    "                         \n",
    ")\n",
    "\n",
    "\n",
    "# note: you can also add layers with model.add_module('l1', ), all layer names must be unique\n"
   ]
  },
  {
   "cell_type": "code",
   "execution_count": 52,
   "metadata": {},
   "outputs": [
    {
     "name": "stdout",
     "output_type": "stream",
     "text": [
      "Weight shapes: [torch.Size([1, 784]), torch.Size([1])]\n"
     ]
    }
   ],
   "source": [
    "print(\"Weight shapes:\", [w.shape for w in model.parameters()])"
   ]
  },
  {
   "cell_type": "code",
   "execution_count": 55,
   "metadata": {},
   "outputs": [
    {
     "data": {
      "text/plain": [
       "tensor([0.5237, 0.5756, 0.6303], grad_fn=<SelectBackward0>)"
      ]
     },
     "execution_count": 55,
     "metadata": {},
     "output_type": "execute_result"
    }
   ],
   "source": [
    "# create dummy data with 3 samples and 784 features\n",
    "x = torch.tensor(X_train[:3], dtype=torch.float32)\n",
    "y = torch.tensor(y_train[:3], dtype=torch.float32)\n",
    "\n",
    "# compute outputs given inputs, both are tensors\n",
    "y_predicted = model(x)[:, 0]\n",
    "\n",
    "y_predicted  # display what we've got"
   ]
  },
  {
   "cell_type": "markdown",
   "metadata": {},
   "source": [
    "Let's now define a loss function for our model.\n",
    "\n",
    "The natural choice is to use binary crossentropy (aka logloss, negative llh):\n",
    "$$ L = {1 \\over N} \\underset{X_i,y_i} \\sum - [  y_i \\cdot log P(y_i | X_i) + (1-y_i) \\cdot log (1-P(y_i | X_i)) ]$$\n",
    "Your task is to implement crossentropy loss __manually__ without using `torch.nn.functional`. \n",
    "\n"
   ]
  },
  {
   "cell_type": "code",
   "execution_count": 57,
   "metadata": {
    "collapsed": true
   },
   "outputs": [],
   "source": [
    "crossentropy =  - (y * torch.log(y_predicted) + (1 - y) * torch.log(1 - y_predicted))\n",
    "\n",
    "loss =  torch.mean(crossentropy)\n",
    "\n",
    "assert tuple(crossentropy.size()) == (\n",
    "    3,), \"Crossentropy must be a vector with element per sample\"\n",
    "assert tuple(loss.size()) == tuple(\n",
    "), \"Loss must be scalar. Did you forget the mean/sum?\"\n",
    "assert loss.data.numpy() > 0, \"Crossentropy must non-negative, zero only for perfect prediction\"\n",
    "assert loss.data.numpy() <= np.log(\n",
    "    3), \"Loss is too large even for untrained model. Please double-check it.\""
   ]
  },
  {
   "cell_type": "markdown",
   "metadata": {},
   "source": [
    "__Note:__ you can also find crossentropy loss in `torch.nn.functional`, just type __`F.<tab>`__. However, it operates on raw logits instead of probabilities."
   ]
  },
  {
   "cell_type": "markdown",
   "metadata": {},
   "source": [
    "__Torch optimizers__\n",
    "\n",
    "When we trained Linear Regression above, we had to manually .zero_() gradients on both our tensors. Imagine that code for a 50-layer network.\n",
    "\n",
    "Again, to keep it from getting dirty, there's `torch.optim` module with pre-implemented algorithms:"
   ]
  },
  {
   "cell_type": "code",
   "execution_count": 60,
   "metadata": {
    "collapsed": true
   },
   "outputs": [],
   "source": [
    "opt = torch.optim.RMSprop(model.parameters(), lr=0.01)\n",
    "\n",
    "# here's how it's used:\n",
    "loss.backward()      # add new gradients\n",
    "opt.step()           # change weights\n",
    "opt.zero_grad()      # clear gradients"
   ]
  },
  {
   "cell_type": "code",
   "execution_count": 61,
   "metadata": {
    "collapsed": true
   },
   "outputs": [],
   "source": [
    "# dispose of old tensors to avoid bugs later\n",
    "del x, y, y_predicted, loss, y_pred"
   ]
  },
  {
   "cell_type": "markdown",
   "metadata": {},
   "source": [
    "### Putting it all together"
   ]
  },
  {
   "cell_type": "code",
   "execution_count": 62,
   "metadata": {
    "collapsed": true
   },
   "outputs": [],
   "source": [
    "# create network again just in case\n",
    "model = nn.Sequential()\n",
    "model.add_module('first', nn.Linear(784, 1))\n",
    "model.add_module('second', nn.Sigmoid())\n",
    "\n",
    "opt = torch.optim.Adam(model.parameters(), lr=1e-3)"
   ]
  },
  {
   "cell_type": "code",
   "execution_count": 72,
   "metadata": {},
   "outputs": [
    {
     "name": "stdout",
     "output_type": "stream",
     "text": [
      "step #0 | mean loss = 0.114\n",
      "step #10 | mean loss = 0.101\n",
      "step #20 | mean loss = 0.090\n",
      "step #30 | mean loss = 0.093\n",
      "step #40 | mean loss = 0.097\n",
      "step #50 | mean loss = 0.086\n",
      "step #60 | mean loss = 0.086\n",
      "step #70 | mean loss = 0.072\n",
      "step #80 | mean loss = 0.094\n",
      "step #90 | mean loss = 0.078\n"
     ]
    }
   ],
   "source": [
    "history = []\n",
    "\n",
    "for i in range(100):\n",
    "\n",
    "    # sample 256 random images\n",
    "    ix = np.random.randint(0, len(X_train), 256)\n",
    "    x_batch = torch.tensor(X_train[ix], dtype=torch.float32)\n",
    "    y_batch = torch.tensor(y_train[ix], dtype=torch.float32)\n",
    "\n",
    "    # predict probabilities\n",
    "    y_predicted =  model(x_batch)[:, 0]\n",
    "\n",
    "    assert y_predicted.dim(\n",
    "    ) == 1, \"did you forget to select first column with [:, 0]\"\n",
    "\n",
    "    # compute loss, just like before\n",
    "    crossentropy =  - (y_batch * torch.log(y_predicted) + (1 - y_batch) * torch.log(1 - y_predicted))\n",
    "    loss =  torch.mean(crossentropy)\n",
    "\n",
    "    # compute gradients\n",
    "    loss.backward()\n",
    "\n",
    "    # Adam step\n",
    "    opt.step()\n",
    "\n",
    "    # clear gradients\n",
    "    opt.zero_grad()\n",
    "\n",
    "    history.append(loss.data.numpy())\n",
    "\n",
    "    if i % 10 == 0:\n",
    "        print(\"step #%i | mean loss = %.3f\" % (i, np.mean(history[-10:])))"
   ]
  },
  {
   "cell_type": "markdown",
   "metadata": {},
   "source": [
    "__Debugging tips:__\n",
    "* make sure your model predicts probabilities correctly. Just print them and see what's inside.\n",
    "* don't forget _minus_ sign in the loss function! It's a mistake 99% ppl do at some point.\n",
    "* make sure you zero-out gradients after each step. Srsly:)\n",
    "* In general, pytorch's error messages are quite helpful, read 'em before you google 'em.\n",
    "* if you see nan/inf, print what happens at each iteration to find our where exactly it occurs.\n",
    "  * If loss goes down and then turns nan midway through, try smaller learning rate. (Our current loss formula is unstable).\n"
   ]
  },
  {
   "cell_type": "markdown",
   "metadata": {},
   "source": [
    "### Evaluation\n",
    "\n",
    "Let's see how our model performs on test data"
   ]
  },
  {
   "cell_type": "code",
   "execution_count": 82,
   "metadata": {},
   "outputs": [
    {
     "name": "stdout",
     "output_type": "stream",
     "text": [
      "(937,)\n",
      "Test accuracy: 0.96478\n"
     ]
    }
   ],
   "source": [
    "# use your model to predict classes (0 or 1) for all test samples\n",
    "X_test_tensor = torch.tensor(X_test, dtype=torch.float32)\n",
    "predicted_y_test =  model(X_test_tensor).data.numpy()[:, 0]\n",
    "predicted_y_test = predicted_y_test > 0.5\n",
    "print(predicted_y_test.shape)\n",
    "\n",
    "assert isinstance(predicted_y_test, np.ndarray), \"please return np array, not %s\" % type(\n",
    "    predicted_y_test)\n",
    "assert predicted_y_test.shape == y_test.shape, \"please predict one class for each test sample\"\n",
    "assert np.in1d(predicted_y_test, y_test).all(), \"please predict class indexes\"\n",
    "\n",
    "accuracy = np.mean(predicted_y_test == y_test)\n",
    "\n",
    "print(\"Test accuracy: %.5f\" % accuracy)\n",
    "assert accuracy > 0.95, \"try training longer\""
   ]
  },
  {
   "cell_type": "markdown",
   "metadata": {},
   "source": [
    "## More about pytorch:\n",
    "* Using torch on GPU and multi-GPU - [link](http://pytorch.org/docs/master/notes/cuda.html)\n",
    "* More tutorials on pytorch - [link](http://pytorch.org/tutorials/beginner/deep_learning_60min_blitz.html)\n",
    "* Pytorch examples - a repo that implements many cool DL models in pytorch - [link](https://github.com/pytorch/examples)\n",
    "* Practical pytorch - a repo that implements some... other cool DL models... yes, in pytorch - [link](https://github.com/spro/practical-pytorch)\n",
    "* And some more - [link](https://www.reddit.com/r/pytorch/comments/6z0yeo/pytorch_and_pytorch_tricks_for_kaggle/)\n",
    "\n",
    "```\n",
    "\n",
    "```\n",
    "\n",
    "```\n",
    "\n",
    "```\n",
    "\n",
    "```\n",
    "\n",
    "```\n",
    "\n",
    "```\n",
    "\n",
    "```\n",
    "\n",
    "```\n",
    "\n",
    "```"
   ]
  },
  {
   "cell_type": "markdown",
   "metadata": {},
   "source": []
  }
 ],
 "metadata": {
  "kernelspec": {
   "display_name": "Python 3.10.8 ('torchem')",
   "language": "python",
   "name": "python3"
  },
  "language_info": {
   "codemirror_mode": {
    "name": "ipython",
    "version": 3
   },
   "file_extension": ".py",
   "mimetype": "text/x-python",
   "name": "python",
   "nbconvert_exporter": "python",
   "pygments_lexer": "ipython3",
   "version": "3.10.8"
  },
  "vscode": {
   "interpreter": {
    "hash": "7f6dcd82db12debb1387258cbabfa36f306b0c54f7e00ac8f650bfe04aa53fc0"
   }
  }
 },
 "nbformat": 4,
 "nbformat_minor": 2
}
